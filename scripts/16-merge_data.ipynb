{
 "cells": [
  {
   "cell_type": "code",
   "execution_count": 20,
   "metadata": {},
   "outputs": [],
   "source": [
    "# merge health data and annual measures data for now"
   ]
  },
  {
   "cell_type": "code",
   "execution_count": 21,
   "metadata": {},
   "outputs": [],
   "source": [
    "import os\n",
    "import pandas as pd"
   ]
  },
  {
   "cell_type": "code",
   "execution_count": 22,
   "metadata": {},
   "outputs": [
    {
     "name": "stdout",
     "output_type": "stream",
     "text": [
      "<class 'pandas.core.frame.DataFrame'>\n",
      "RangeIndex: 4626 entries, 0 to 4625\n",
      "Columns: 178 entries, YEAR to MAX_RNG_5_Inf\n",
      "dtypes: float64(151), int64(27)\n",
      "memory usage: 6.3 MB\n"
     ]
    }
   ],
   "source": [
    "# load annual measures\n",
    "# annual_measures = pd.read_csv(os.path.join(\"..\", \"processed\", \"collapsed_measures\", \"LA_zipcode_measures_all_years.csv\"))\n",
    "annual_measures = pd.read_csv(os.path.join(\"..\", \"processed\", \"collapsed_measures\", \"LA_zipcode_measures_all_years_max_rng.csv\"))\n",
    "annual_measures.info()"
   ]
  },
  {
   "cell_type": "code",
   "execution_count": 23,
   "metadata": {},
   "outputs": [
    {
     "name": "stdout",
     "output_type": "stream",
     "text": [
      "<class 'pandas.core.frame.DataFrame'>\n",
      "RangeIndex: 3936 entries, 0 to 3935\n",
      "Data columns (total 22 columns):\n",
      " #   Column              Non-Null Count  Dtype  \n",
      "---  ------              --------------  -----  \n",
      " 0   Year                3936 non-null   int64  \n",
      " 1   Zipcode             3936 non-null   int64  \n",
      " 2   Age_0_4             3936 non-null   float64\n",
      " 3   Age_5_14            3936 non-null   int64  \n",
      " 4   Age_15_64           3936 non-null   float64\n",
      " 5   Age_65_84           3936 non-null   float64\n",
      " 6   Age_85_and_Over     3936 non-null   float64\n",
      " 7   Accidents           3936 non-null   float64\n",
      " 8   Total               3936 non-null   float64\n",
      " 9   Alzheimers          3936 non-null   float64\n",
      " 10  Homicide            3936 non-null   float64\n",
      " 11  Cerebrovascular     3936 non-null   float64\n",
      " 12  Cirrhosis           3936 non-null   float64\n",
      " 13  Respiratory         3936 non-null   float64\n",
      " 14  Diabetes            3936 non-null   float64\n",
      " 15  Heart               3936 non-null   float64\n",
      " 16  Hypertension        3936 non-null   float64\n",
      " 17  InfluenzaPneumonia  3936 non-null   float64\n",
      " 18  Suicide             3936 non-null   float64\n",
      " 19  Neoplasms           3936 non-null   float64\n",
      " 20  Nephrosis           3936 non-null   float64\n",
      " 21  Parkinsons          3936 non-null   float64\n",
      "dtypes: float64(19), int64(3)\n",
      "memory usage: 676.6 KB\n"
     ]
    }
   ],
   "source": [
    "# load health data\n",
    "mortality = pd.read_csv(os.path.join(\"..\", \"processed\", \"health_data\", \"mortality_rates_catchment.csv\"))"
   ]
  },
  {
   "cell_type": "code",
   "execution_count": 24,
   "metadata": {},
   "outputs": [
    {
     "name": "stdout",
     "output_type": "stream",
     "text": [
      "<class 'pandas.core.frame.DataFrame'>\n",
      "RangeIndex: 3936 entries, 0 to 3935\n",
      "Data columns (total 25 columns):\n",
      " #   Column                    Non-Null Count  Dtype  \n",
      "---  ------                    --------------  -----  \n",
      " 0   YEAR                      3936 non-null   int64  \n",
      " 1   ZIPCODE                   3936 non-null   int64  \n",
      " 2   PerinatalDisorders        3690 non-null   float64\n",
      " 3   PregnancyBirthPuerperium  3690 non-null   float64\n",
      " 4   CongenitalAnomalies       3690 non-null   float64\n",
      " 5   BloodBloodformingOrgans   3690 non-null   float64\n",
      " 6   Circulatory               3690 non-null   float64\n",
      " 7   Digestive                 3690 non-null   float64\n",
      " 8   Endocrine                 3690 non-null   float64\n",
      " 9   Respiratory               3690 non-null   float64\n",
      " 10  NervousSensory            3690 non-null   float64\n",
      " 11  Musculoskeletal           3690 non-null   float64\n",
      " 12  Neoplasms                 3690 non-null   float64\n",
      " 13  Genitourinary             3690 non-null   float64\n",
      " 14  Infections                3690 non-null   float64\n",
      " 15  InjuriesPoisoning         3690 non-null   float64\n",
      " 16  MentalIllness             3690 non-null   float64\n",
      " 17  Skin                      3690 non-null   float64\n",
      " 18  Symptoms                  3690 non-null   float64\n",
      " 19  Other                     3690 non-null   float64\n",
      " 20  EDvisits                  3936 non-null   float64\n",
      " 21  Age_0_9                   3936 non-null   float64\n",
      " 22  Age_10_59                 3936 non-null   float64\n",
      " 23  Age_60_79                 3936 non-null   float64\n",
      " 24  Age_80_and_Over           3936 non-null   float64\n",
      "dtypes: float64(23), int64(2)\n",
      "memory usage: 768.9 KB\n"
     ]
    }
   ],
   "source": [
    "# load health data (er catchment data)\n",
    "er = pd.read_csv(os.path.join(\"..\", \"processed\", \"health_data\", \"er_rates_catchment.csv\"))"
   ]
  },
  {
   "cell_type": "code",
   "execution_count": 25,
   "metadata": {},
   "outputs": [],
   "source": [
    "# compare zipcodes and years used for each\n",
    "measures_zips = annual_measures.loc[annual_measures[\"YEAR\"] == 2003, \"ZIPCODE\"]\n",
    "mortality_zips = mortality.loc[mortality[\"Year\"] == 2005, \"Zipcode\"]\n",
    "er_zips = er.loc[er[\"YEAR\"] == 2005, \"ZIPCODE\"]\n",
    "\n",
    "measures_years = annual_measures[\"YEAR\"].unique()\n",
    "mortality_years = mortality[\"Year\"].unique()\n",
    "er_years = er[\"YEAR\"].unique()\n"
   ]
  },
  {
   "cell_type": "code",
   "execution_count": 29,
   "metadata": {},
   "outputs": [
    {
     "name": "stdout",
     "output_type": "stream",
     "text": [
      "False\n",
      "False\n"
     ]
    }
   ],
   "source": [
    "print(False in er_zips == mortality_zips)\n",
    "print(False in er_years == mortality_years)"
   ]
  },
  {
   "cell_type": "code",
   "execution_count": 30,
   "metadata": {},
   "outputs": [
    {
     "name": "stdout",
     "output_type": "stream",
     "text": [
      "<class 'pandas.core.frame.DataFrame'>\n",
      "Index: 3936 entries, 514 to 4625\n",
      "Columns: 178 entries, YEAR to MAX_RNG_5_Inf\n",
      "dtypes: float64(151), int64(27)\n",
      "memory usage: 5.4 MB\n"
     ]
    }
   ],
   "source": [
    "# filter annual measures to only contain moratality/er zips and mortality/er years\n",
    "annual_measures_filtered = annual_measures[annual_measures.loc[:, \"ZIPCODE\"].isin(mortality_zips) & annual_measures.loc[:, \"YEAR\"].isin(mortality_years)]\n",
    "annual_measures_filtered.info()"
   ]
  },
  {
   "cell_type": "code",
   "execution_count": 31,
   "metadata": {},
   "outputs": [],
   "source": [
    "annual_measures_filtered.reset_index(drop=True, inplace=True)"
   ]
  },
  {
   "cell_type": "code",
   "execution_count": 32,
   "metadata": {},
   "outputs": [
    {
     "data": {
      "text/html": [
       "<div>\n",
       "<style scoped>\n",
       "    .dataframe tbody tr th:only-of-type {\n",
       "        vertical-align: middle;\n",
       "    }\n",
       "\n",
       "    .dataframe tbody tr th {\n",
       "        vertical-align: top;\n",
       "    }\n",
       "\n",
       "    .dataframe thead th {\n",
       "        text-align: right;\n",
       "    }\n",
       "</style>\n",
       "<table border=\"1\" class=\"dataframe\">\n",
       "  <thead>\n",
       "    <tr style=\"text-align: right;\">\n",
       "      <th></th>\n",
       "      <th>YEAR</th>\n",
       "      <th>ZIPCODE</th>\n",
       "      <th>DAILY_AVG_TEMP_Inf_0</th>\n",
       "      <th>DAILY_AVG_TEMP_0_1</th>\n",
       "      <th>DAILY_AVG_TEMP_1_2</th>\n",
       "      <th>DAILY_AVG_TEMP_2_3</th>\n",
       "      <th>DAILY_AVG_TEMP_3_4</th>\n",
       "      <th>DAILY_AVG_TEMP_4_5</th>\n",
       "      <th>DAILY_AVG_TEMP_5_6</th>\n",
       "      <th>DAILY_AVG_TEMP_6_7</th>\n",
       "      <th>...</th>\n",
       "      <th>DIURNAL_TEMP_RNG_39_40</th>\n",
       "      <th>DIURNAL_TEMP_RNG_40_Inf</th>\n",
       "      <th>HEATWAVE_CNT</th>\n",
       "      <th>MAX_RNG_Inf_0</th>\n",
       "      <th>MAX_RNG_0_1</th>\n",
       "      <th>MAX_RNG_1_2</th>\n",
       "      <th>MAX_RNG_2_3</th>\n",
       "      <th>MAX_RNG_3_4</th>\n",
       "      <th>MAX_RNG_4_5</th>\n",
       "      <th>MAX_RNG_5_Inf</th>\n",
       "    </tr>\n",
       "  </thead>\n",
       "  <tbody>\n",
       "    <tr>\n",
       "      <th>3931</th>\n",
       "      <td>2020</td>\n",
       "      <td>91790</td>\n",
       "      <td>0.0</td>\n",
       "      <td>0.0</td>\n",
       "      <td>0.0</td>\n",
       "      <td>0.0</td>\n",
       "      <td>0.0</td>\n",
       "      <td>0.0</td>\n",
       "      <td>0.0</td>\n",
       "      <td>0.0</td>\n",
       "      <td>...</td>\n",
       "      <td>0</td>\n",
       "      <td>0</td>\n",
       "      <td>6.521943</td>\n",
       "      <td>0.0</td>\n",
       "      <td>0.265394</td>\n",
       "      <td>172.814413</td>\n",
       "      <td>183.446711</td>\n",
       "      <td>8.473482</td>\n",
       "      <td>0.000000</td>\n",
       "      <td>0.0</td>\n",
       "    </tr>\n",
       "    <tr>\n",
       "      <th>3932</th>\n",
       "      <td>2020</td>\n",
       "      <td>91791</td>\n",
       "      <td>0.0</td>\n",
       "      <td>0.0</td>\n",
       "      <td>0.0</td>\n",
       "      <td>0.0</td>\n",
       "      <td>0.0</td>\n",
       "      <td>0.0</td>\n",
       "      <td>0.0</td>\n",
       "      <td>0.0</td>\n",
       "      <td>...</td>\n",
       "      <td>0</td>\n",
       "      <td>0</td>\n",
       "      <td>5.923969</td>\n",
       "      <td>0.0</td>\n",
       "      <td>0.000000</td>\n",
       "      <td>151.948334</td>\n",
       "      <td>192.914252</td>\n",
       "      <td>19.950442</td>\n",
       "      <td>0.186972</td>\n",
       "      <td>0.0</td>\n",
       "    </tr>\n",
       "    <tr>\n",
       "      <th>3933</th>\n",
       "      <td>2020</td>\n",
       "      <td>91792</td>\n",
       "      <td>0.0</td>\n",
       "      <td>0.0</td>\n",
       "      <td>0.0</td>\n",
       "      <td>0.0</td>\n",
       "      <td>0.0</td>\n",
       "      <td>0.0</td>\n",
       "      <td>0.0</td>\n",
       "      <td>0.0</td>\n",
       "      <td>...</td>\n",
       "      <td>0</td>\n",
       "      <td>0</td>\n",
       "      <td>5.058040</td>\n",
       "      <td>0.0</td>\n",
       "      <td>0.147867</td>\n",
       "      <td>150.408956</td>\n",
       "      <td>189.939405</td>\n",
       "      <td>24.334527</td>\n",
       "      <td>0.169244</td>\n",
       "      <td>0.0</td>\n",
       "    </tr>\n",
       "    <tr>\n",
       "      <th>3934</th>\n",
       "      <td>2020</td>\n",
       "      <td>91801</td>\n",
       "      <td>0.0</td>\n",
       "      <td>0.0</td>\n",
       "      <td>0.0</td>\n",
       "      <td>0.0</td>\n",
       "      <td>0.0</td>\n",
       "      <td>0.0</td>\n",
       "      <td>0.0</td>\n",
       "      <td>0.0</td>\n",
       "      <td>...</td>\n",
       "      <td>0</td>\n",
       "      <td>0</td>\n",
       "      <td>5.578315</td>\n",
       "      <td>0.0</td>\n",
       "      <td>0.000000</td>\n",
       "      <td>148.593396</td>\n",
       "      <td>196.213387</td>\n",
       "      <td>20.193217</td>\n",
       "      <td>0.000000</td>\n",
       "      <td>0.0</td>\n",
       "    </tr>\n",
       "    <tr>\n",
       "      <th>3935</th>\n",
       "      <td>2020</td>\n",
       "      <td>91803</td>\n",
       "      <td>0.0</td>\n",
       "      <td>0.0</td>\n",
       "      <td>0.0</td>\n",
       "      <td>0.0</td>\n",
       "      <td>0.0</td>\n",
       "      <td>0.0</td>\n",
       "      <td>0.0</td>\n",
       "      <td>0.0</td>\n",
       "      <td>...</td>\n",
       "      <td>0</td>\n",
       "      <td>0</td>\n",
       "      <td>5.483635</td>\n",
       "      <td>0.0</td>\n",
       "      <td>0.000000</td>\n",
       "      <td>145.031869</td>\n",
       "      <td>197.420802</td>\n",
       "      <td>22.547329</td>\n",
       "      <td>0.000000</td>\n",
       "      <td>0.0</td>\n",
       "    </tr>\n",
       "  </tbody>\n",
       "</table>\n",
       "<p>5 rows × 178 columns</p>\n",
       "</div>"
      ],
      "text/plain": [
       "      YEAR  ZIPCODE  DAILY_AVG_TEMP_Inf_0  DAILY_AVG_TEMP_0_1  \\\n",
       "3931  2020    91790                   0.0                 0.0   \n",
       "3932  2020    91791                   0.0                 0.0   \n",
       "3933  2020    91792                   0.0                 0.0   \n",
       "3934  2020    91801                   0.0                 0.0   \n",
       "3935  2020    91803                   0.0                 0.0   \n",
       "\n",
       "      DAILY_AVG_TEMP_1_2  DAILY_AVG_TEMP_2_3  DAILY_AVG_TEMP_3_4  \\\n",
       "3931                 0.0                 0.0                 0.0   \n",
       "3932                 0.0                 0.0                 0.0   \n",
       "3933                 0.0                 0.0                 0.0   \n",
       "3934                 0.0                 0.0                 0.0   \n",
       "3935                 0.0                 0.0                 0.0   \n",
       "\n",
       "      DAILY_AVG_TEMP_4_5  DAILY_AVG_TEMP_5_6  DAILY_AVG_TEMP_6_7  ...  \\\n",
       "3931                 0.0                 0.0                 0.0  ...   \n",
       "3932                 0.0                 0.0                 0.0  ...   \n",
       "3933                 0.0                 0.0                 0.0  ...   \n",
       "3934                 0.0                 0.0                 0.0  ...   \n",
       "3935                 0.0                 0.0                 0.0  ...   \n",
       "\n",
       "      DIURNAL_TEMP_RNG_39_40  DIURNAL_TEMP_RNG_40_Inf  HEATWAVE_CNT  \\\n",
       "3931                       0                        0      6.521943   \n",
       "3932                       0                        0      5.923969   \n",
       "3933                       0                        0      5.058040   \n",
       "3934                       0                        0      5.578315   \n",
       "3935                       0                        0      5.483635   \n",
       "\n",
       "      MAX_RNG_Inf_0  MAX_RNG_0_1  MAX_RNG_1_2  MAX_RNG_2_3  MAX_RNG_3_4  \\\n",
       "3931            0.0     0.265394   172.814413   183.446711     8.473482   \n",
       "3932            0.0     0.000000   151.948334   192.914252    19.950442   \n",
       "3933            0.0     0.147867   150.408956   189.939405    24.334527   \n",
       "3934            0.0     0.000000   148.593396   196.213387    20.193217   \n",
       "3935            0.0     0.000000   145.031869   197.420802    22.547329   \n",
       "\n",
       "      MAX_RNG_4_5  MAX_RNG_5_Inf  \n",
       "3931     0.000000            0.0  \n",
       "3932     0.186972            0.0  \n",
       "3933     0.169244            0.0  \n",
       "3934     0.000000            0.0  \n",
       "3935     0.000000            0.0  \n",
       "\n",
       "[5 rows x 178 columns]"
      ]
     },
     "execution_count": 32,
     "metadata": {},
     "output_type": "execute_result"
    }
   ],
   "source": [
    "annual_measures_filtered.tail()"
   ]
  },
  {
   "cell_type": "code",
   "execution_count": 33,
   "metadata": {},
   "outputs": [],
   "source": [
    "mortality.rename(columns={\"Year\":\"YEAR\", \"Zipcode\":\"ZIPCODE\"}, inplace=True)"
   ]
  },
  {
   "cell_type": "code",
   "execution_count": 34,
   "metadata": {},
   "outputs": [],
   "source": [
    "# merge the measures + mortality data\n",
    "measures_mortality = annual_measures_filtered.merge(mortality, on=[\"YEAR\", \"ZIPCODE\"])"
   ]
  },
  {
   "cell_type": "code",
   "execution_count": 35,
   "metadata": {},
   "outputs": [
    {
     "name": "stdout",
     "output_type": "stream",
     "text": [
      "<class 'pandas.core.frame.DataFrame'>\n",
      "RangeIndex: 3936 entries, 0 to 3935\n",
      "Columns: 198 entries, YEAR to Parkinsons\n",
      "dtypes: float64(170), int64(28)\n",
      "memory usage: 5.9 MB\n"
     ]
    }
   ],
   "source": [
    "measures_mortality.info()"
   ]
  },
  {
   "cell_type": "code",
   "execution_count": 36,
   "metadata": {},
   "outputs": [],
   "source": [
    "# save measures + mortality\n",
    "out_path = os.path.join(\"..\", \"processed\", \"merged\", \"measures_mortality.csv\")\n",
    "measures_mortality.to_csv(out_path, index=False)"
   ]
  },
  {
   "cell_type": "code",
   "execution_count": 37,
   "metadata": {},
   "outputs": [],
   "source": [
    "# merge measures + er data \n",
    "measures_er = annual_measures_filtered.merge(er, on=[\"YEAR\", \"ZIPCODE\"])"
   ]
  },
  {
   "cell_type": "code",
   "execution_count": 19,
   "metadata": {},
   "outputs": [
    {
     "name": "stdout",
     "output_type": "stream",
     "text": [
      "<class 'pandas.core.frame.DataFrame'>\n",
      "RangeIndex: 3936 entries, 0 to 3935\n",
      "Columns: 201 entries, YEAR to Age_80_and_Over\n",
      "dtypes: float64(174), int64(27)\n",
      "memory usage: 6.0 MB\n"
     ]
    }
   ],
   "source": [
    "measures_er.info()"
   ]
  },
  {
   "cell_type": "code",
   "execution_count": 38,
   "metadata": {},
   "outputs": [],
   "source": [
    "# save measures + er data\n",
    "# out_path = os.path.join(\"..\", \"processed\", \"merged\", \"measures_er.csv\")\n",
    "out_path = os.path.join(\"..\", \"processed\", \"merged\", \"measures_er.csv\")\n",
    "measures_er.to_csv(out_path, index=False)"
   ]
  },
  {
   "cell_type": "code",
   "execution_count": 54,
   "metadata": {},
   "outputs": [],
   "source": [
    "# merge all three dfs \n",
    "all_merged = measures_mortality.merge(er, on=[\"YEAR\", \"ZIPCODE\"])"
   ]
  },
  {
   "cell_type": "code",
   "execution_count": 55,
   "metadata": {},
   "outputs": [
    {
     "name": "stdout",
     "output_type": "stream",
     "text": [
      "<class 'pandas.core.frame.DataFrame'>\n",
      "RangeIndex: 3936 entries, 0 to 3935\n",
      "Columns: 214 entries, YEAR to Age_80_and_Over\n",
      "dtypes: float64(186), int64(28)\n",
      "memory usage: 6.4 MB\n"
     ]
    }
   ],
   "source": [
    "all_merged.info()"
   ]
  },
  {
   "cell_type": "code",
   "execution_count": 57,
   "metadata": {},
   "outputs": [],
   "source": [
    "# save all merged data\n",
    "out_path = os.path.join(\"..\", \"processed\", \"merged\", \"all_merged.csv\")\n",
    "all_merged.to_csv(out_path, index=False)"
   ]
  }
 ],
 "metadata": {
  "kernelspec": {
   "display_name": "Python 3",
   "language": "python",
   "name": "python3"
  },
  "language_info": {
   "codemirror_mode": {
    "name": "ipython",
    "version": 3
   },
   "file_extension": ".py",
   "mimetype": "text/x-python",
   "name": "python",
   "nbconvert_exporter": "python",
   "pygments_lexer": "ipython3",
   "version": "3.10.5"
  }
 },
 "nbformat": 4,
 "nbformat_minor": 2
}
